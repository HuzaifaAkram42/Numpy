{
 "cells": [
  {
   "cell_type": "code",
   "execution_count": null,
   "id": "051d37ec-93b7-4112-8a99-064a52499e60",
   "metadata": {},
   "outputs": [],
   "source": []
  },
  {
   "cell_type": "code",
   "execution_count": null,
   "id": "74e59768-946b-4ef8-ba8d-d9afe12f112d",
   "metadata": {},
   "outputs": [],
   "source": []
  },
  {
   "cell_type": "markdown",
   "id": "d034613d-4317-4fae-bb65-f71828743273",
   "metadata": {},
   "source": [
    "### Numpy Array Vs Python List"
   ]
  },
  {
   "cell_type": "markdown",
   "id": "c8edbd20-916e-42f1-8648-d5ea49b2c300",
   "metadata": {},
   "source": [
    "#### Speed Test"
   ]
  },
  {
   "cell_type": "code",
   "execution_count": 8,
   "id": "5a441bf1-1ac8-4d3a-90ae-606d3d43950c",
   "metadata": {},
   "outputs": [
    {
     "name": "stdout",
     "output_type": "stream",
     "text": [
      "2.092193126678467\n"
     ]
    }
   ],
   "source": [
    "# python list\n",
    "a = [i for i in range(10000000)]\n",
    "b = [i for i in range(10000000,20000000)]\n",
    "c = []\n",
    "import time\n",
    "start = time.time()\n",
    "for i in range(len(a)):\n",
    "    c.append(a[i] + b[i])\n",
    "print(time.time() - start)"
   ]
  },
  {
   "cell_type": "code",
   "execution_count": 9,
   "id": "3db1913e-4786-4d8b-ab3b-d4568ee12dc8",
   "metadata": {},
   "outputs": [
    {
     "name": "stdout",
     "output_type": "stream",
     "text": [
      "0.018781423568725586\n"
     ]
    }
   ],
   "source": [
    "import numpy as np\n",
    "arr1 = np.arange(10000000)\n",
    "arr2 = np.arange(10000000,20000000)\n",
    "start = time.time()\n",
    "arr3 = arr1 + arr2\n",
    "print(time.time() - start)"
   ]
  },
  {
   "cell_type": "markdown",
   "id": "e152edee-5254-4076-9d30-2cdc24867986",
   "metadata": {},
   "source": [
    "#### Memory Test"
   ]
  },
  {
   "cell_type": "code",
   "execution_count": 14,
   "id": "7e1f8d37-eb55-4a21-b0ad-039ad34f77db",
   "metadata": {},
   "outputs": [
    {
     "data": {
      "text/plain": [
       "89095160"
      ]
     },
     "execution_count": 14,
     "metadata": {},
     "output_type": "execute_result"
    }
   ],
   "source": [
    "a = [i for i in range(10000000)]\n",
    "import sys\n",
    "sys.getsizeof(a)"
   ]
  },
  {
   "cell_type": "code",
   "execution_count": 15,
   "id": "01db5bfc-8cb7-42b5-b5b0-36351df82ac5",
   "metadata": {},
   "outputs": [
    {
     "data": {
      "text/plain": [
       "40000112"
      ]
     },
     "execution_count": 15,
     "metadata": {},
     "output_type": "execute_result"
    }
   ],
   "source": [
    "b = np.arange(10000000)\n",
    "sys.getsizeof(b)"
   ]
  },
  {
   "cell_type": "code",
   "execution_count": 16,
   "id": "9d5575cd-73ac-459f-b4c4-2f19a4e4c410",
   "metadata": {},
   "outputs": [
    {
     "data": {
      "text/plain": [
       "20000112"
      ]
     },
     "execution_count": 16,
     "metadata": {},
     "output_type": "execute_result"
    }
   ],
   "source": [
    "b = np.arange(10000000,dtype=np.int16)\n",
    "sys.getsizeof(b)"
   ]
  },
  {
   "cell_type": "code",
   "execution_count": 17,
   "id": "90cb36bb-e1b2-4e64-878f-df03338e21ec",
   "metadata": {},
   "outputs": [
    {
     "data": {
      "text/plain": [
       "10000112"
      ]
     },
     "execution_count": 17,
     "metadata": {},
     "output_type": "execute_result"
    }
   ],
   "source": [
    "b = np.arange(10000000,dtype=np.int8)\n",
    "sys.getsizeof(b)"
   ]
  },
  {
   "cell_type": "markdown",
   "id": "5d41e05a-14ef-4cb6-97ee-d122c63e3aa3",
   "metadata": {},
   "source": [
    "### Advanced Indexing"
   ]
  },
  {
   "cell_type": "markdown",
   "id": "98371e9c-8cc1-4eef-a2a7-47cbbae280d6",
   "metadata": {},
   "source": [
    "#### Fancy Indexing\n",
    "Fancy indexing in NumPy refers to the technique of using arrays of indices to access or modify elements in another array."
   ]
  },
  {
   "cell_type": "code",
   "execution_count": 20,
   "id": "9fde9b44-c3cf-42b1-9c2c-5bbb5e642c8e",
   "metadata": {},
   "outputs": [
    {
     "data": {
      "text/plain": [
       "array([[ 0,  1,  2,  3,  4,  5],\n",
       "       [ 6,  7,  8,  9, 10, 11],\n",
       "       [12, 13, 14, 15, 16, 17],\n",
       "       [18, 19, 20, 21, 22, 23],\n",
       "       [24, 25, 26, 27, 28, 29],\n",
       "       [30, 31, 32, 33, 34, 35]])"
      ]
     },
     "execution_count": 20,
     "metadata": {},
     "output_type": "execute_result"
    }
   ],
   "source": [
    "# fancy indexing\n",
    "arr = np.arange(36).reshape(6,6)\n",
    "arr"
   ]
  },
  {
   "cell_type": "markdown",
   "id": "9fa51e8c-5048-40ac-98ef-d039a94e3ab6",
   "metadata": {},
   "source": [
    "lets say i want to select row 1,2,4,6. In this case normal indexing will not work because there is no pattern to access these rows so i can use fancy indexing and just passing index of rows which i have to access."
   ]
  },
  {
   "cell_type": "code",
   "execution_count": 21,
   "id": "732da72a-44d3-4fef-8a2d-1a359627d5ad",
   "metadata": {},
   "outputs": [
    {
     "data": {
      "text/plain": [
       "array([[ 0,  1,  2,  3,  4,  5],\n",
       "       [ 6,  7,  8,  9, 10, 11],\n",
       "       [18, 19, 20, 21, 22, 23],\n",
       "       [30, 31, 32, 33, 34, 35]])"
      ]
     },
     "execution_count": 21,
     "metadata": {},
     "output_type": "execute_result"
    }
   ],
   "source": [
    "arr[[0,1,3,5]]"
   ]
  },
  {
   "cell_type": "code",
   "execution_count": 23,
   "id": "8cd25f81-3718-4db9-b7bb-257caeedc066",
   "metadata": {},
   "outputs": [
    {
     "data": {
      "text/plain": [
       "array([[ 0,  1,  3],\n",
       "       [ 6,  7,  9],\n",
       "       [12, 13, 15],\n",
       "       [18, 19, 21],\n",
       "       [24, 25, 27],\n",
       "       [30, 31, 33]])"
      ]
     },
     "execution_count": 23,
     "metadata": {},
     "output_type": "execute_result"
    }
   ],
   "source": [
    "# for columns\n",
    "arr[:,[0,1,3]]"
   ]
  },
  {
   "cell_type": "markdown",
   "id": "79c979ec-73ad-40fc-a014-871244478db7",
   "metadata": {},
   "source": [
    "#### Boolean Indexing\n",
    "Boolean indexing in NumPy is a powerful technique that allows you to select elements from an array using a boolean condition. It involves creating a boolean mask, an array of True and False values"
   ]
  },
  {
   "cell_type": "code",
   "execution_count": 26,
   "id": "db8db22a-d8e9-4df5-89b9-7805907213f5",
   "metadata": {},
   "outputs": [
    {
     "data": {
      "text/plain": [
       "array([[15, 37, 78, 59, 85, 42],\n",
       "       [86, 21, 48, 96, 74, 50],\n",
       "       [29, 33, 93, 30, 96, 80],\n",
       "       [83, 14, 64, 26, 54, 79],\n",
       "       [ 9, 70, 72, 31, 18, 50],\n",
       "       [49, 78, 57, 66, 33, 99]])"
      ]
     },
     "execution_count": 26,
     "metadata": {},
     "output_type": "execute_result"
    }
   ],
   "source": [
    "# random number array bet 1 to 100\n",
    "arr = np.random.randint(1,100,36).reshape(6,6)\n",
    "arr"
   ]
  },
  {
   "cell_type": "markdown",
   "id": "78b4274f-686c-42b5-aaf7-f8e57fb3770f",
   "metadata": {},
   "source": [
    "##### 1. find all numbers greater than 50"
   ]
  },
  {
   "cell_type": "code",
   "execution_count": 27,
   "id": "4cdd0e33-f052-415e-9071-2afeddc0f73e",
   "metadata": {},
   "outputs": [
    {
     "data": {
      "text/plain": [
       "array([[False, False,  True,  True,  True, False],\n",
       "       [ True, False, False,  True,  True, False],\n",
       "       [False, False,  True, False,  True,  True],\n",
       "       [ True, False,  True, False,  True,  True],\n",
       "       [False,  True,  True, False, False, False],\n",
       "       [False,  True,  True,  True, False,  True]])"
      ]
     },
     "execution_count": 27,
     "metadata": {},
     "output_type": "execute_result"
    }
   ],
   "source": [
    "arr > 50"
   ]
  },
  {
   "cell_type": "code",
   "execution_count": 28,
   "id": "2f314e8a-b73b-4d70-aef5-33a5c250dc1b",
   "metadata": {},
   "outputs": [
    {
     "data": {
      "text/plain": [
       "array([78, 59, 85, 86, 96, 74, 93, 96, 80, 83, 64, 54, 79, 70, 72, 78, 57,\n",
       "       66, 99])"
      ]
     },
     "execution_count": 28,
     "metadata": {},
     "output_type": "execute_result"
    }
   ],
   "source": [
    "arr[arr>50]"
   ]
  },
  {
   "cell_type": "markdown",
   "id": "3dec49a5-0f45-4921-b0c6-34b8fdd4ed87",
   "metadata": {},
   "source": [
    "##### 2. find out even numbers"
   ]
  },
  {
   "cell_type": "code",
   "execution_count": 30,
   "id": "728daf65-a486-4bc4-86d2-0e10e63be9e0",
   "metadata": {},
   "outputs": [
    {
     "data": {
      "text/plain": [
       "array([78, 42, 86, 48, 96, 74, 50, 30, 96, 80, 14, 64, 26, 54, 70, 72, 18,\n",
       "       50, 78, 66])"
      ]
     },
     "execution_count": 30,
     "metadata": {},
     "output_type": "execute_result"
    }
   ],
   "source": [
    "arr[arr % 2 == 0]"
   ]
  },
  {
   "cell_type": "markdown",
   "id": "0b29aa6c-a678-480a-82fa-5d67fbfb456b",
   "metadata": {},
   "source": [
    "##### 3. find all numbers greater than 50 and are even"
   ]
  },
  {
   "cell_type": "code",
   "execution_count": 31,
   "id": "06c0c2ab-02d6-4945-a809-8fd578a83d36",
   "metadata": {},
   "outputs": [
    {
     "data": {
      "text/plain": [
       "array([78, 86, 96, 74, 96, 80, 64, 54, 70, 72, 78, 66])"
      ]
     },
     "execution_count": 31,
     "metadata": {},
     "output_type": "execute_result"
    }
   ],
   "source": [
    "arr[(arr>50) & (arr%2==0)]"
   ]
  },
  {
   "cell_type": "markdown",
   "id": "93bbdd52-1b5d-45a9-a7b3-d70a2a8bc68b",
   "metadata": {},
   "source": [
    "##### 4. find all numbers divisible by 7"
   ]
  },
  {
   "cell_type": "code",
   "execution_count": 32,
   "id": "c4e752a6-d44b-405a-b939-e303299ac7bd",
   "metadata": {},
   "outputs": [
    {
     "data": {
      "text/plain": [
       "array([42, 21, 14, 70, 49])"
      ]
     },
     "execution_count": 32,
     "metadata": {},
     "output_type": "execute_result"
    }
   ],
   "source": [
    "arr[arr % 7 == 0]"
   ]
  },
  {
   "cell_type": "markdown",
   "id": "7392213d-9dfc-46f4-9ebf-d69fbc1020a3",
   "metadata": {},
   "source": [
    "##### 5. Find all numbers that are multiples of 5"
   ]
  },
  {
   "cell_type": "code",
   "execution_count": 33,
   "id": "bed75294-cc46-40e8-a0d3-5fdde2bd0d31",
   "metadata": {},
   "outputs": [
    {
     "data": {
      "text/plain": [
       "array([15, 85, 50, 30, 80, 70, 50])"
      ]
     },
     "execution_count": 33,
     "metadata": {},
     "output_type": "execute_result"
    }
   ],
   "source": [
    "arr[arr%5==0]"
   ]
  },
  {
   "cell_type": "markdown",
   "id": "8357ed19-203f-49ec-ad00-1fdcef8cc521",
   "metadata": {},
   "source": [
    "##### 6. Find all numbers whose square is Less than 100:"
   ]
  },
  {
   "cell_type": "code",
   "execution_count": 35,
   "id": "a63520c0-65d6-448d-bcee-6dd9749f3248",
   "metadata": {},
   "outputs": [
    {
     "data": {
      "text/plain": [
       "array([9])"
      ]
     },
     "execution_count": 35,
     "metadata": {},
     "output_type": "execute_result"
    }
   ],
   "source": [
    "arr[arr**2 < 100]"
   ]
  },
  {
   "cell_type": "markdown",
   "id": "bd272ae4-3adb-45fb-bd8b-2783ef148107",
   "metadata": {},
   "source": [
    "### Broadcasting\n",
    "- The term broadcasting describes how NumPy treats arrays with different shapes during arithmetic operations.\n",
    "- The smaller array is “broadcast” across the larger array so that they have compatible shapes."
   ]
  },
  {
   "cell_type": "code",
   "execution_count": 38,
   "id": "1cd39596-4273-47b2-a99a-13ab67e87fa7",
   "metadata": {},
   "outputs": [
    {
     "name": "stdout",
     "output_type": "stream",
     "text": [
      "[[0 1 2]\n",
      " [3 4 5]]\n",
      "[[ 6  7  8]\n",
      " [ 9 10 11]]\n",
      "[[ 6  8 10]\n",
      " [12 14 16]]\n"
     ]
    }
   ],
   "source": [
    "# same shape\n",
    "a = np.arange(6).reshape(2,3)\n",
    "b = np.arange(6,12).reshape(2,3)\n",
    "print(a)\n",
    "print(b)\n",
    "print(a+b)"
   ]
  },
  {
   "cell_type": "code",
   "execution_count": 39,
   "id": "45aa9b0f-8c98-430e-a122-e7a2754dfc8d",
   "metadata": {},
   "outputs": [
    {
     "name": "stdout",
     "output_type": "stream",
     "text": [
      "[[0 1 2]\n",
      " [3 4 5]]\n",
      "[[0 1 2]]\n",
      "[[0 2 4]\n",
      " [3 5 7]]\n"
     ]
    }
   ],
   "source": [
    "# diff shape\n",
    "a = np.arange(6).reshape(2,3)\n",
    "b = np.arange(3).reshape(1,3)\n",
    "print(a)\n",
    "print(b)\n",
    "print(a+b)"
   ]
  },
  {
   "cell_type": "markdown",
   "id": "83a9b9d2-618a-4462-978f-5cbc7a13c7a4",
   "metadata": {},
   "source": [
    "#### Broadcasting Rules\n",
    "\n",
    "**1. Make the two arrays have the same number of dimensions.**<br>\n",
    "- If the numbers of dimensions of the two arrays are different, add new dimensions with size 1 to the head of the array with the smaller dimension.<br>\n",
    "\n",
    "**2. Make each dimension of the two arrays the same size.**<br>\n",
    "- If the sizes of each dimension of the two arrays do not match, dimensions with size 1 are stretched to the size of the other array.\n",
    "- If there is a dimension whose size is not 1 in either of the two arrays, it cannot be broadcasted, and an error is raised.\n",
    "\n",
    "<img src = \"https://jakevdp.github.io/PythonDataScienceHandbook/figures/02.05-broadcasting.png\">"
   ]
  },
  {
   "cell_type": "markdown",
   "id": "d5ca21d6-aaf5-47e9-b219-bb73b7aa2f4b",
   "metadata": {},
   "source": [
    "#### Brodcasting Examples"
   ]
  },
  {
   "cell_type": "code",
   "execution_count": 47,
   "id": "fed2a83e-3aef-4f69-ad64-59b9acb066a3",
   "metadata": {},
   "outputs": [
    {
     "name": "stdout",
     "output_type": "stream",
     "text": [
      "[[ 0  1  2]\n",
      " [ 3  4  5]\n",
      " [ 6  7  8]\n",
      " [ 9 10 11]]\n",
      "[0 1 2]\n",
      "[[ 0  2  4]\n",
      " [ 3  5  7]\n",
      " [ 6  8 10]\n",
      " [ 9 11 13]]\n"
     ]
    }
   ],
   "source": [
    "a = np.arange(12).reshape(4,3)\n",
    "b = np.arange(3)\n",
    "print(a)\n",
    "print(b)\n",
    "print(a+b)"
   ]
  },
  {
   "cell_type": "code",
   "execution_count": 41,
   "id": "6ca09ca0-a2a6-497c-8c3a-31bbd9809e29",
   "metadata": {},
   "outputs": [
    {
     "name": "stdout",
     "output_type": "stream",
     "text": [
      "[[ 0  1  2  3]\n",
      " [ 4  5  6  7]\n",
      " [ 8  9 10 11]]\n",
      "[0 1 2]\n"
     ]
    },
    {
     "ename": "ValueError",
     "evalue": "operands could not be broadcast together with shapes (3,4) (3,) ",
     "output_type": "error",
     "traceback": [
      "\u001b[1;31m---------------------------------------------------------------------------\u001b[0m",
      "\u001b[1;31mValueError\u001b[0m                                Traceback (most recent call last)",
      "Cell \u001b[1;32mIn[41], line 5\u001b[0m\n\u001b[0;32m      3\u001b[0m \u001b[38;5;28mprint\u001b[39m(a)\n\u001b[0;32m      4\u001b[0m \u001b[38;5;28mprint\u001b[39m(b)\n\u001b[1;32m----> 5\u001b[0m \u001b[38;5;28mprint\u001b[39m(a\u001b[38;5;241m+\u001b[39mb)\n",
      "\u001b[1;31mValueError\u001b[0m: operands could not be broadcast together with shapes (3,4) (3,) "
     ]
    }
   ],
   "source": [
    "a = np.arange(12).reshape(3,4)\n",
    "b = np.arange(3)\n",
    "print(a)\n",
    "print(b)\n",
    "print(a+b)"
   ]
  },
  {
   "cell_type": "code",
   "execution_count": 42,
   "id": "df91dea4-82f2-4185-9bfb-960f5f274e41",
   "metadata": {},
   "outputs": [
    {
     "name": "stdout",
     "output_type": "stream",
     "text": [
      "[[0 1 2]]\n",
      "[[0]\n",
      " [1]\n",
      " [2]]\n",
      "[[0 1 2]\n",
      " [1 2 3]\n",
      " [2 3 4]]\n"
     ]
    }
   ],
   "source": [
    "a = np.arange(3).reshape(1,3)\n",
    "b = np.arange(3).reshape(3,1)\n",
    "print(a)\n",
    "print(b)\n",
    "print(a+b)"
   ]
  },
  {
   "cell_type": "code",
   "execution_count": 43,
   "id": "9f3c77bd-23c3-4fb0-8d5a-7f0ae5fabe1f",
   "metadata": {},
   "outputs": [
    {
     "name": "stdout",
     "output_type": "stream",
     "text": [
      "[[0 1 2]]\n",
      "[[0]\n",
      " [1]\n",
      " [2]\n",
      " [3]]\n",
      "[[0 1 2]\n",
      " [1 2 3]\n",
      " [2 3 4]\n",
      " [3 4 5]]\n"
     ]
    }
   ],
   "source": [
    "a = np.arange(3).reshape(1,3)\n",
    "b = np.arange(4).reshape(4,1)\n",
    "print(a)\n",
    "print(b)\n",
    "print(a + b)"
   ]
  },
  {
   "cell_type": "code",
   "execution_count": 44,
   "id": "1be17685-e082-4c51-968a-e118f8f0d25d",
   "metadata": {},
   "outputs": [
    {
     "name": "stdout",
     "output_type": "stream",
     "text": [
      "[1]\n",
      "[[0 1]\n",
      " [2 3]]\n",
      "[[1 2]\n",
      " [3 4]]\n"
     ]
    }
   ],
   "source": [
    "a = np.array([1])\n",
    "# shape -> (1,1)\n",
    "b = np.arange(4).reshape(2,2)\n",
    "print(a)\n",
    "print(b)\n",
    "print(a+b)"
   ]
  },
  {
   "cell_type": "code",
   "execution_count": 45,
   "id": "b1c950b7-58e4-4e56-a30b-f2e50786df2b",
   "metadata": {},
   "outputs": [
    {
     "name": "stdout",
     "output_type": "stream",
     "text": [
      "[[ 0  1  2  3]\n",
      " [ 4  5  6  7]\n",
      " [ 8  9 10 11]]\n",
      "[[ 0  1  2]\n",
      " [ 3  4  5]\n",
      " [ 6  7  8]\n",
      " [ 9 10 11]]\n"
     ]
    },
    {
     "ename": "ValueError",
     "evalue": "operands could not be broadcast together with shapes (3,4) (4,3) ",
     "output_type": "error",
     "traceback": [
      "\u001b[1;31m---------------------------------------------------------------------------\u001b[0m",
      "\u001b[1;31mValueError\u001b[0m                                Traceback (most recent call last)",
      "Cell \u001b[1;32mIn[45], line 5\u001b[0m\n\u001b[0;32m      3\u001b[0m \u001b[38;5;28mprint\u001b[39m(a)\n\u001b[0;32m      4\u001b[0m \u001b[38;5;28mprint\u001b[39m(b)\n\u001b[1;32m----> 5\u001b[0m \u001b[38;5;28mprint\u001b[39m(a\u001b[38;5;241m+\u001b[39mb)\n",
      "\u001b[1;31mValueError\u001b[0m: operands could not be broadcast together with shapes (3,4) (4,3) "
     ]
    }
   ],
   "source": [
    "a = np.arange(12).reshape(3,4)\n",
    "b = np.arange(12).reshape(4,3)\n",
    "print(a)\n",
    "print(b)\n",
    "print(a+b)"
   ]
  },
  {
   "cell_type": "code",
   "execution_count": 46,
   "id": "419741d0-0e1d-47c3-b38e-2f1a7c11c426",
   "metadata": {},
   "outputs": [
    {
     "name": "stdout",
     "output_type": "stream",
     "text": [
      "[[ 0  1  2  3]\n",
      " [ 4  5  6  7]\n",
      " [ 8  9 10 11]\n",
      " [12 13 14 15]]\n",
      "[[0 1]\n",
      " [2 3]]\n"
     ]
    },
    {
     "ename": "ValueError",
     "evalue": "operands could not be broadcast together with shapes (4,4) (2,2) ",
     "output_type": "error",
     "traceback": [
      "\u001b[1;31m---------------------------------------------------------------------------\u001b[0m",
      "\u001b[1;31mValueError\u001b[0m                                Traceback (most recent call last)",
      "Cell \u001b[1;32mIn[46], line 5\u001b[0m\n\u001b[0;32m      3\u001b[0m \u001b[38;5;28mprint\u001b[39m(a)\n\u001b[0;32m      4\u001b[0m \u001b[38;5;28mprint\u001b[39m(b)\n\u001b[1;32m----> 5\u001b[0m \u001b[38;5;28mprint\u001b[39m(a\u001b[38;5;241m+\u001b[39mb)\n",
      "\u001b[1;31mValueError\u001b[0m: operands could not be broadcast together with shapes (4,4) (2,2) "
     ]
    }
   ],
   "source": [
    "a = np.arange(16).reshape(4,4)\n",
    "b = np.arange(4).reshape(2,2)\n",
    "print(a)\n",
    "print(b)\n",
    "print(a+b)"
   ]
  },
  {
   "cell_type": "code",
   "execution_count": null,
   "id": "d3a9dd1f-5aac-4052-aa06-ebc326ec5ba7",
   "metadata": {},
   "outputs": [],
   "source": []
  }
 ],
 "metadata": {
  "kernelspec": {
   "display_name": "Python 3 (ipykernel)",
   "language": "python",
   "name": "python3"
  },
  "language_info": {
   "codemirror_mode": {
    "name": "ipython",
    "version": 3
   },
   "file_extension": ".py",
   "mimetype": "text/x-python",
   "name": "python",
   "nbconvert_exporter": "python",
   "pygments_lexer": "ipython3",
   "version": "3.12.4"
  }
 },
 "nbformat": 4,
 "nbformat_minor": 5
}
